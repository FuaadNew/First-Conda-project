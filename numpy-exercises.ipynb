{
 "cells": [
  {
   "cell_type": "markdown",
   "metadata": {},
   "source": [
    "# NumPy Practice\n",
    "\n",
    "This notebook offers a set of exercises for different tasks with NumPy.\n",
    "\n",
    "It should be noted there may be more than one different way to answer a question or complete an exercise.\n",
    "\n",
    "Exercises are based off (and directly taken from) the quick introduction to NumPy notebook.\n",
    "\n",
    "Different tasks will be detailed by comments or text.\n",
    "\n",
    "For further reference and resources, it's advised to check out the [NumPy documentation](https://numpy.org/devdocs/user/index.html).\n",
    "\n",
    "And if you get stuck, try searching for a question in the following format: \"how to do XYZ with numpy\", where XYZ is the function you want to leverage from NumPy."
   ]
  },
  {
   "cell_type": "code",
   "execution_count": 133,
   "metadata": {},
   "outputs": [
    {
     "data": {
      "text/plain": [
       "<module 'numpy' from '/Users/pawn/Desktop/firstCondaProject/env/lib/python3.13/site-packages/numpy/__init__.py'>"
      ]
     },
     "execution_count": 133,
     "metadata": {},
     "output_type": "execute_result"
    }
   ],
   "source": [
    "# Import NumPy as its abbreviation 'np'\n",
    "import numpy as np\n",
    "np"
   ]
  },
  {
   "cell_type": "code",
   "execution_count": 134,
   "metadata": {},
   "outputs": [
    {
     "data": {
      "text/plain": [
       "(array([0, 0, 0, 0]),\n",
       " array([[0, 0, 0, 0],\n",
       "        [0, 0, 0, 0]]),\n",
       " array([[[0, 0, 0, 0],\n",
       "         [0, 0, 0, 0]],\n",
       " \n",
       "        [[0, 0, 0, 0],\n",
       "         [0, 0, 0, 0]],\n",
       " \n",
       "        [[0, 0, 0, 0],\n",
       "         [0, 0, 0, 0]]]))"
      ]
     },
     "execution_count": 134,
     "metadata": {},
     "output_type": "execute_result"
    }
   ],
   "source": [
    "# Create a 1-dimensional NumPy array using np.array()\n",
    "arr1 =np.array([0,0,0,0])\n",
    "\n",
    "# Create a 2-dimensional NumPy array using np.array()\n",
    "arr2 = np.array([[0,0,0,0],\n",
    "               [0,0,0,0]])\n",
    "arr2\n",
    "\n",
    "\n",
    "# Create a 3-dimensional Numpy array using np.array()\n",
    "#arr3 = np.array([\n",
    "   #layer 0 [[0,0,0,0],\n",
    " #   [0,0,0,0]],\n",
    "    #layer 1 [[0,0,0,0],\n",
    " #   [0,0,0,0]],\n",
    "    #layer 2 [[0,0,0,0],\n",
    " #   [0,0,0,0]]\n",
    "#])\n",
    "\n",
    "arr3 = np.array([\n",
    "    [[0,0,0,0],\n",
    "    [0,0,0,0]], #layer 0\n",
    "    [[0,0,0,0],\n",
    "    [0,0,0,0]], #layer 1\n",
    "    [[0,0,0,0],\n",
    "    [0,0,0,0]] #layer 2\n",
    "])\n",
    "arr1,arr2,arr3\n",
    "\n"
   ]
  },
  {
   "cell_type": "markdown",
   "metadata": {},
   "source": [
    "Now we've you've created 3 different arrays, let's find details about them.\n",
    "\n",
    "Find the shape, number of dimensions, data type, size and type of each array."
   ]
  },
  {
   "cell_type": "code",
   "execution_count": 135,
   "metadata": {},
   "outputs": [],
   "source": [
    "# Attributes of 1-dimensional array (shape, \n",
    "# number of dimensions, data type, size and type)\n"
   ]
  },
  {
   "cell_type": "code",
   "execution_count": 136,
   "metadata": {},
   "outputs": [],
   "source": [
    "# Attributes of 2-dimensional array\n"
   ]
  },
  {
   "cell_type": "code",
   "execution_count": 137,
   "metadata": {},
   "outputs": [],
   "source": [
    "# Attributes of 3-dimensional array\n"
   ]
  },
  {
   "cell_type": "code",
   "execution_count": null,
   "metadata": {},
   "outputs": [],
   "source": [
    "\n"
   ]
  },
  {
   "cell_type": "code",
   "execution_count": 138,
   "metadata": {},
   "outputs": [
    {
     "name": "stdout",
     "output_type": "stream",
     "text": [
      "=== DIMENSION vs NESTED LISTS ===\n",
      "\n",
      "1. A 3D array with 2 'layers':\n",
      "Shape: (2, 2, 2) = (2 layers, 2 rows, 2 columns)\n",
      "[[[1 2]\n",
      "  [3 4]]\n",
      "\n",
      " [[5 6]\n",
      "  [7 8]]]\n",
      "\n",
      "2. A 3D array with 4 'layers':\n",
      "Shape: (4, 1, 3) = (4 layers, 1 row, 3 columns)\n",
      "[[[ 1  2  3]]\n",
      "\n",
      " [[ 4  5  6]]\n",
      "\n",
      " [[ 7  8  9]]\n",
      "\n",
      " [[10 11 12]]]\n",
      "\n",
      "3. A 3D array with just 1 'layer':\n",
      "Shape: (1, 1, 5) = (1 layer, 1 row, 5 columns)\n",
      "[[[1 2 3 4 5]]]\n",
      "\n",
      "=== THE KEY POINT ===\n",
      "ALL of these are 3D arrays because they have 3 DIMENSIONS in their shape:\n",
      "- Dimension 1: Number of layers (depth/Z-axis)\n",
      "- Dimension 2: Number of rows (height/Y-axis)\n",
      "- Dimension 3: Number of columns (width/X-axis)\n",
      "\n",
      "A 3D array can have ANY number of layers, rows, or columns!\n",
      "What makes it 3D is that you need 3 coordinates [layer, row, column] to access any element.\n"
     ]
    }
   ],
   "source": [
    "# CLARIFICATION: What makes an array 3D?\n",
    "# It's NOT about having \"3 sublists\" - it's about having 3 DIMENSIONS!\n",
    "\n",
    "print(\"=== DIMENSION vs NESTED LISTS ===\")\n",
    "print()\n",
    "\n",
    "# Example 1: Different 3D arrays with different numbers of \"sublists\"\n",
    "print(\"1. A 3D array with 2 'layers':\")\n",
    "small_3d = np.array([\n",
    "    [[1, 2], [3, 4]],  # Layer 0\n",
    "    [[5, 6], [7, 8]]   # Layer 1\n",
    "])\n",
    "print(f\"Shape: {small_3d.shape} = (2 layers, 2 rows, 2 columns)\")\n",
    "print(small_3d)\n",
    "print()\n",
    "\n",
    "print(\"2. A 3D array with 4 'layers':\")\n",
    "big_3d = np.array([\n",
    "    [[1, 2, 3]],    # Layer 0: 1 row, 3 columns\n",
    "    [[4, 5, 6]],    # Layer 1: 1 row, 3 columns  \n",
    "    [[7, 8, 9]],    # Layer 2: 1 row, 3 columns\n",
    "    [[10, 11, 12]]  # Layer 3: 1 row, 3 columns\n",
    "])\n",
    "print(f\"Shape: {big_3d.shape} = (4 layers, 1 row, 3 columns)\")\n",
    "print(big_3d)\n",
    "print()\n",
    "\n",
    "print(\"3. A 3D array with just 1 'layer':\")\n",
    "single_layer_3d = np.array([\n",
    "    [[1, 2, 3, 4, 5]]  # Just 1 layer, 1 row, 5 columns\n",
    "])\n",
    "print(f\"Shape: {single_layer_3d.shape} = (1 layer, 1 row, 5 columns)\")\n",
    "print(single_layer_3d)\n",
    "print()\n",
    "\n",
    "print(\"=== THE KEY POINT ===\")\n",
    "print(\"ALL of these are 3D arrays because they have 3 DIMENSIONS in their shape:\")\n",
    "print(\"- Dimension 1: Number of layers (depth/Z-axis)\")\n",
    "print(\"- Dimension 2: Number of rows (height/Y-axis)\") \n",
    "print(\"- Dimension 3: Number of columns (width/X-axis)\")\n",
    "print()\n",
    "print(\"A 3D array can have ANY number of layers, rows, or columns!\")\n",
    "print(\"What makes it 3D is that you need 3 coordinates [layer, row, column] to access any element.\")\n"
   ]
  },
  {
   "cell_type": "code",
   "execution_count": 139,
   "metadata": {},
   "outputs": [
    {
     "data": {
      "text/html": [
       "<div>\n",
       "<style scoped>\n",
       "    .dataframe tbody tr th:only-of-type {\n",
       "        vertical-align: middle;\n",
       "    }\n",
       "\n",
       "    .dataframe tbody tr th {\n",
       "        vertical-align: top;\n",
       "    }\n",
       "\n",
       "    .dataframe thead th {\n",
       "        text-align: right;\n",
       "    }\n",
       "</style>\n",
       "<table border=\"1\" class=\"dataframe\">\n",
       "  <thead>\n",
       "    <tr style=\"text-align: right;\">\n",
       "      <th></th>\n",
       "      <th>0</th>\n",
       "      <th>1</th>\n",
       "      <th>2</th>\n",
       "      <th>3</th>\n",
       "    </tr>\n",
       "  </thead>\n",
       "  <tbody>\n",
       "    <tr>\n",
       "      <th>0</th>\n",
       "      <td>0</td>\n",
       "      <td>0</td>\n",
       "      <td>0</td>\n",
       "      <td>0</td>\n",
       "    </tr>\n",
       "    <tr>\n",
       "      <th>1</th>\n",
       "      <td>0</td>\n",
       "      <td>0</td>\n",
       "      <td>0</td>\n",
       "      <td>0</td>\n",
       "    </tr>\n",
       "  </tbody>\n",
       "</table>\n",
       "</div>"
      ],
      "text/plain": [
       "   0  1  2  3\n",
       "0  0  0  0  0\n",
       "1  0  0  0  0"
      ]
     },
     "execution_count": 139,
     "metadata": {},
     "output_type": "execute_result"
    }
   ],
   "source": [
    "# Import pandas and create a DataFrame out of one\n",
    "# of the arrays you've created\n",
    "import pandas as pd\n",
    "df = pd.DataFrame(arr2)\n",
    "df"
   ]
  },
  {
   "cell_type": "code",
   "execution_count": 140,
   "metadata": {},
   "outputs": [
    {
     "data": {
      "text/plain": [
       "array([[1., 1.],\n",
       "       [1., 1.],\n",
       "       [1., 1.],\n",
       "       [1., 1.],\n",
       "       [1., 1.],\n",
       "       [1., 1.],\n",
       "       [1., 1.],\n",
       "       [1., 1.],\n",
       "       [1., 1.],\n",
       "       [1., 1.]])"
      ]
     },
     "execution_count": 140,
     "metadata": {},
     "output_type": "execute_result"
    }
   ],
   "source": [
    "# Create an array of shape (10, 2) with only ones\n",
    "one_arr = np.ones((10,2))\n",
    "one_arr"
   ]
  },
  {
   "cell_type": "code",
   "execution_count": 141,
   "metadata": {},
   "outputs": [
    {
     "data": {
      "text/plain": [
       "array([[[0., 0., 0.],\n",
       "        [0., 0., 0.]],\n",
       "\n",
       "       [[0., 0., 0.],\n",
       "        [0., 0., 0.]],\n",
       "\n",
       "       [[0., 0., 0.],\n",
       "        [0., 0., 0.]],\n",
       "\n",
       "       [[0., 0., 0.],\n",
       "        [0., 0., 0.]],\n",
       "\n",
       "       [[0., 0., 0.],\n",
       "        [0., 0., 0.]],\n",
       "\n",
       "       [[0., 0., 0.],\n",
       "        [0., 0., 0.]],\n",
       "\n",
       "       [[0., 0., 0.],\n",
       "        [0., 0., 0.]]])"
      ]
     },
     "execution_count": 141,
     "metadata": {},
     "output_type": "execute_result"
    }
   ],
   "source": [
    "# Create an array of shape (7, 2, 3) of only zeros\n",
    "zero_arr = np.zeros((7,2,3))\n",
    "zero_arr"
   ]
  },
  {
   "cell_type": "code",
   "execution_count": 142,
   "metadata": {},
   "outputs": [
    {
     "data": {
      "text/plain": [
       "array([ 0,  3,  6,  9, 12, 15, 18, 21, 24, 27, 30, 33, 36, 39, 42, 45, 48,\n",
       "       51, 54, 57, 60, 63, 66, 69, 72, 75, 78, 81, 84, 87, 90, 93, 96, 99])"
      ]
     },
     "execution_count": 142,
     "metadata": {},
     "output_type": "execute_result"
    }
   ],
   "source": [
    "# Create an array within a range of 0 and 100 with step 3\n",
    "range_arr = np.arange(0,100,3)\n",
    "range_arr"
   ]
  },
  {
   "cell_type": "code",
   "execution_count": 143,
   "metadata": {},
   "outputs": [
    {
     "data": {
      "text/plain": [
       "array([[6, 1],\n",
       "       [3, 8],\n",
       "       [1, 9],\n",
       "       [8, 9],\n",
       "       [4, 1],\n",
       "       [3, 6],\n",
       "       [7, 2]])"
      ]
     },
     "execution_count": 143,
     "metadata": {},
     "output_type": "execute_result"
    }
   ],
   "source": [
    "# Create a random array with numbers between 0 and 10 of size (7, 2)\n",
    "range_arr = np.random.randint(0,10,(7,2))\n",
    "range_arr"
   ]
  },
  {
   "cell_type": "code",
   "execution_count": 144,
   "metadata": {},
   "outputs": [
    {
     "data": {
      "text/plain": [
       "array([[0.9093204 , 0.25877998, 0.66252228, 0.31171108, 0.52006802],\n",
       "       [0.54671028, 0.18485446, 0.96958463, 0.77513282, 0.93949894],\n",
       "       [0.89482735, 0.59789998, 0.92187424, 0.0884925 , 0.19598286]])"
      ]
     },
     "execution_count": 144,
     "metadata": {},
     "output_type": "execute_result"
    }
   ],
   "source": [
    "# Create a random array of floats between 0 & 1 of shape (3, 5)\n",
    "range_arr = np.random.rand(3,5)\n",
    "range_arr"
   ]
  },
  {
   "cell_type": "code",
   "execution_count": 145,
   "metadata": {},
   "outputs": [
    {
     "data": {
      "text/plain": [
       "array([[6, 3, 7, 4, 6, 9],\n",
       "       [2, 6, 7, 4, 3, 7],\n",
       "       [7, 2, 5, 4, 1, 7],\n",
       "       [5, 1, 4, 0, 9, 5]])"
      ]
     },
     "execution_count": 145,
     "metadata": {},
     "output_type": "execute_result"
    }
   ],
   "source": [
    "# Set the random seed to 42\n",
    "np.random.seed(42)\n",
    "\n",
    "# Create a random array of numbers between 0 & 10 of size (4, 6)\n",
    "random_arr = np.random.randint(0,10,(4,6))\n",
    "random_arr\n"
   ]
  },
  {
   "cell_type": "markdown",
   "metadata": {},
   "source": [
    "Run the cell above again, what happens?\n",
    "\n",
    "Are the numbers in the array different or the same? Why do think this is?"
   ]
  },
  {
   "cell_type": "code",
   "execution_count": 146,
   "metadata": {},
   "outputs": [
    {
     "data": {
      "text/plain": [
       "array([[7, 4, 8, 5, 7, 3, 7],\n",
       "       [8, 5, 4, 8, 8, 3, 6],\n",
       "       [5, 2, 8, 6, 2, 5, 1]])"
      ]
     },
     "execution_count": 146,
     "metadata": {},
     "output_type": "execute_result"
    }
   ],
   "source": [
    "# Create an array of random numbers between 1 & 10 of size (3, 7)\n",
    "# and save it to a variable\n",
    "np.random.seed(42)\n",
    "\n",
    "random_arr = np.random.randint(1,10,(3,7))\n",
    "random_arr\n",
    "\n",
    "\n",
    "# Find the unique numbers in the array you just created\n",
    "unique_arr = np.unique(random_arr)\n",
    "unique_arr\n",
    "random_arr\n"
   ]
  },
  {
   "cell_type": "code",
   "execution_count": 147,
   "metadata": {},
   "outputs": [
    {
     "data": {
      "text/plain": [
       "np.int64(7)"
      ]
     },
     "execution_count": 147,
     "metadata": {},
     "output_type": "execute_result"
    }
   ],
   "source": [
    "# Find the 0'th index of the latest array you created\n",
    "random_arr[0][0]\n",
    "\n"
   ]
  },
  {
   "cell_type": "code",
   "execution_count": 148,
   "metadata": {},
   "outputs": [
    {
     "data": {
      "text/plain": [
       "(array([7, 4, 8, 5, 7, 3, 7]), array([8, 5, 4, 8, 8, 3, 6]))"
      ]
     },
     "execution_count": 148,
     "metadata": {},
     "output_type": "execute_result"
    }
   ],
   "source": [
    "# Get the first 2 rows of latest array you created\n",
    "random_arr[0],random_arr[1]\n"
   ]
  },
  {
   "cell_type": "code",
   "execution_count": 149,
   "metadata": {},
   "outputs": [
    {
     "data": {
      "text/plain": [
       "(array([7, 4]), array([8, 5]))"
      ]
     },
     "execution_count": 149,
     "metadata": {},
     "output_type": "execute_result"
    }
   ],
   "source": [
    "# Get the first 2 values of the first 2 rows of the latest array\n",
    "random_arr[0][0:2],random_arr[1][0:2]\n"
   ]
  },
  {
   "cell_type": "code",
   "execution_count": 150,
   "metadata": {},
   "outputs": [],
   "source": [
    "# Create a random array of numbers between 0 & 10 and an array of ones\n",
    "# both of size (3, 5), save them both to variables\n",
    "random_arr1 = np.random.randint(0,10,(3,5))\n",
    "random_arr2 = np.ones((3,5))\n"
   ]
  },
  {
   "cell_type": "code",
   "execution_count": 151,
   "metadata": {},
   "outputs": [
    {
     "data": {
      "text/plain": [
       "array([[10.,  6.,  9.,  1., 10.],\n",
       "       [ 3.,  7.,  4.,  9.,  3.],\n",
       "       [ 5.,  3.,  7.,  5.,  9.]])"
      ]
     },
     "execution_count": 151,
     "metadata": {},
     "output_type": "execute_result"
    }
   ],
   "source": [
    "# Add the two arrays together\n",
    "arr3 = random_arr1 + random_arr2\n",
    "arr3"
   ]
  },
  {
   "cell_type": "code",
   "execution_count": 152,
   "metadata": {},
   "outputs": [],
   "source": [
    "# Create another array of ones of shape (5, 3)\n",
    "random_arr = np.ones((5,3))"
   ]
  },
  {
   "cell_type": "code",
   "execution_count": 153,
   "metadata": {},
   "outputs": [],
   "source": [
    "# Try add the array of ones and the other most recent array together\n",
    "arr3.shape,random_arr.shape\n",
    "random_arr_tranposed = random_arr.T\n",
    "new_arr = arr3 + random_arr_tranposed"
   ]
  },
  {
   "cell_type": "markdown",
   "metadata": {},
   "source": [
    "When you try the last cell, it produces an error. Why do think this is?\n",
    "\n",
    "How would you fix it?"
   ]
  },
  {
   "cell_type": "code",
   "execution_count": 154,
   "metadata": {},
   "outputs": [
    {
     "data": {
      "text/plain": [
       "array([[1., 1., 1., 1., 1.],\n",
       "       [1., 1., 1., 1., 1.],\n",
       "       [1., 1., 1., 1., 1.]])"
      ]
     },
     "execution_count": 154,
     "metadata": {},
     "output_type": "execute_result"
    }
   ],
   "source": [
    "# Create another array of ones of shape (3, 5)\n",
    "random_arr = np.ones((3,5))\n",
    "random_arr"
   ]
  },
  {
   "cell_type": "code",
   "execution_count": 156,
   "metadata": {},
   "outputs": [
    {
     "data": {
      "text/plain": [
       "array([[-10.,  -6.,  -9.,  -1., -10.],\n",
       "       [ -3.,  -7.,  -4.,  -9.,  -3.],\n",
       "       [ -5.,  -3.,  -7.,  -5.,  -9.]])"
      ]
     },
     "execution_count": 156,
     "metadata": {},
     "output_type": "execute_result"
    }
   ],
   "source": [
    "# Subtract the new array of ones from the other most recent array\n",
    "new_arrTwo = random_arr - new_arr\n",
    "new_arrTwo"
   ]
  },
  {
   "cell_type": "code",
   "execution_count": 158,
   "metadata": {},
   "outputs": [],
   "source": [
    "# Multiply the ones array with the latest array\n",
    "latest_arr = new_arrTwo * random_arr"
   ]
  },
  {
   "cell_type": "code",
   "execution_count": 159,
   "metadata": {},
   "outputs": [
    {
     "data": {
      "text/plain": [
       "array([[100.,  36.,  81.,   1., 100.],\n",
       "       [  9.,  49.,  16.,  81.,   9.],\n",
       "       [ 25.,   9.,  49.,  25.,  81.]])"
      ]
     },
     "execution_count": 159,
     "metadata": {},
     "output_type": "execute_result"
    }
   ],
   "source": [
    "# Take the latest array to the power of 2 using '**'\n",
    "latest_arr **2"
   ]
  },
  {
   "cell_type": "code",
   "execution_count": 161,
   "metadata": {},
   "outputs": [
    {
     "data": {
      "text/plain": [
       "array([[100.,  36.,  81.,   1., 100.],\n",
       "       [  9.,  49.,  16.,  81.,   9.],\n",
       "       [ 25.,   9.,  49.,  25.,  81.]])"
      ]
     },
     "execution_count": 161,
     "metadata": {},
     "output_type": "execute_result"
    }
   ],
   "source": [
    "# Do the same thing with np.square()\n",
    "np.square(latest_arr)"
   ]
  },
  {
   "cell_type": "code",
   "execution_count": 162,
   "metadata": {},
   "outputs": [
    {
     "data": {
      "text/plain": [
       "np.float64(-6.066666666666666)"
      ]
     },
     "execution_count": 162,
     "metadata": {},
     "output_type": "execute_result"
    }
   ],
   "source": [
    "# Find the mean of the latest array using np.mean()\n",
    "np.mean(latest_arr)"
   ]
  },
  {
   "cell_type": "code",
   "execution_count": 163,
   "metadata": {},
   "outputs": [
    {
     "data": {
      "text/plain": [
       "np.float64(-1.0)"
      ]
     },
     "execution_count": 163,
     "metadata": {},
     "output_type": "execute_result"
    }
   ],
   "source": [
    "# Find the maximum of the latest array using np.max()\n",
    "np.max(latest_arr)"
   ]
  },
  {
   "cell_type": "code",
   "execution_count": 164,
   "metadata": {},
   "outputs": [
    {
     "data": {
      "text/plain": [
       "np.float64(-10.0)"
      ]
     },
     "execution_count": 164,
     "metadata": {},
     "output_type": "execute_result"
    }
   ],
   "source": [
    "# Find the minimum of the latest array using np.min()\n",
    "np.min(latest_arr)"
   ]
  },
  {
   "cell_type": "code",
   "execution_count": 165,
   "metadata": {},
   "outputs": [
    {
     "data": {
      "text/plain": [
       "np.float64(2.815828277592383)"
      ]
     },
     "execution_count": 165,
     "metadata": {},
     "output_type": "execute_result"
    }
   ],
   "source": [
    "# Find the standard deviation of the latest array\n",
    "np.std(latest_arr)"
   ]
  },
  {
   "cell_type": "code",
   "execution_count": 166,
   "metadata": {},
   "outputs": [
    {
     "data": {
      "text/plain": [
       "np.float64(7.9288888888888875)"
      ]
     },
     "execution_count": 166,
     "metadata": {},
     "output_type": "execute_result"
    }
   ],
   "source": [
    "# Find the variance of the latest array\n",
    "np.var(latest_arr)"
   ]
  },
  {
   "cell_type": "code",
   "execution_count": 169,
   "metadata": {},
   "outputs": [],
   "source": [
    "# Reshape the latest array to (3, 5, 1)\n",
    "reshape_latest = np.reshape(latest_arr, (3,5,1))"
   ]
  },
  {
   "cell_type": "code",
   "execution_count": 170,
   "metadata": {},
   "outputs": [
    {
     "data": {
      "text/plain": [
       "array([[[-10.,  -3.,  -5.],\n",
       "        [ -6.,  -7.,  -3.],\n",
       "        [ -9.,  -4.,  -7.],\n",
       "        [ -1.,  -9.,  -5.],\n",
       "        [-10.,  -3.,  -9.]]])"
      ]
     },
     "execution_count": 170,
     "metadata": {},
     "output_type": "execute_result"
    }
   ],
   "source": [
    "# Transpose the latest array\n",
    "reshape_latest.T"
   ]
  },
  {
   "cell_type": "markdown",
   "metadata": {},
   "source": [
    "What does the transpose do?"
   ]
  },
  {
   "cell_type": "code",
   "execution_count": 172,
   "metadata": {},
   "outputs": [],
   "source": [
    "# Create two arrays of random integers between 0 to 10\n",
    "# one of size (3, 3) the other of size (3, 2)\n",
    "one_to_ten_one = np.random.randint(0,10, (3,3))\n",
    "one_to_ten_two = np.random.randint(0,10, (3,2))"
   ]
  },
  {
   "cell_type": "code",
   "execution_count": 173,
   "metadata": {},
   "outputs": [
    {
     "data": {
      "text/plain": [
       "array([[72, 34],\n",
       "       [31, 17],\n",
       "       [77, 29]])"
      ]
     },
     "execution_count": 173,
     "metadata": {},
     "output_type": "execute_result"
    }
   ],
   "source": [
    "# Perform a dot product on the two newest arrays you created\n",
    "np.dot(one_to_ten_one,one_to_ten_two)"
   ]
  },
  {
   "cell_type": "code",
   "execution_count": 28,
   "metadata": {},
   "outputs": [],
   "source": [
    "# Create two arrays of random integers between 0 to 10\n",
    "# both of size (4, 3)\n",
    "one_to_ten_three = np.random.randint(0,10, (4,3))\n",
    "one_to_ten_four = np.random.randint(0,10, (4,3))"
   ]
  },
  {
   "cell_type": "code",
   "execution_count": 176,
   "metadata": {},
   "outputs": [
    {
     "ename": "ValueError",
     "evalue": "shapes (4,3) and (4,3) not aligned: 3 (dim 1) != 4 (dim 0)",
     "output_type": "error",
     "traceback": [
      "\u001b[31m---------------------------------------------------------------------------\u001b[39m",
      "\u001b[31mValueError\u001b[39m                                Traceback (most recent call last)",
      "\u001b[36mCell\u001b[39m\u001b[36m \u001b[39m\u001b[32mIn[176]\u001b[39m\u001b[32m, line 2\u001b[39m\n\u001b[32m      1\u001b[39m \u001b[38;5;66;03m# Perform a dot product on the two newest arrays you created\u001b[39;00m\n\u001b[32m----> \u001b[39m\u001b[32m2\u001b[39m np.dot(one_to_ten_three, one_to_ten_four)\n",
      "\u001b[31mValueError\u001b[39m: shapes (4,3) and (4,3) not aligned: 3 (dim 1) != 4 (dim 0)"
     ]
    }
   ],
   "source": [
    "# Perform a dot product on the two newest arrays you created\n",
    "np.dot(one_to_ten_three, one_to_ten_four)\n"
   ]
  },
  {
   "cell_type": "markdown",
   "metadata": {},
   "source": [
    "It doesn't work. How would you fix it?"
   ]
  },
  {
   "cell_type": "code",
   "execution_count": 177,
   "metadata": {},
   "outputs": [
    {
     "data": {
      "text/plain": [
       "array([[133,  85, 150],\n",
       "       [152, 115,  85],\n",
       "       [131, 135, 152]])"
      ]
     },
     "execution_count": 177,
     "metadata": {},
     "output_type": "execute_result"
    }
   ],
   "source": [
    "# Take the latest two arrays, perform a transpose on one of them and then perform \n",
    "# a dot product on them both\n",
    "np.dot(one_to_ten_three.T, one_to_ten_four)\n"
   ]
  },
  {
   "cell_type": "markdown",
   "metadata": {},
   "source": [
    "Notice how performing a transpose allows the dot product to happen.\n",
    "\n",
    "Why is this?\n",
    "\n",
    "Checking out the documentation on [`np.dot()`](https://docs.scipy.org/doc/numpy/reference/generated/numpy.dot.html) may help, as well as reading [Math is Fun's guide on the dot product](https://www.mathsisfun.com/algebra/vectors-dot-product.html).\n",
    "\n",
    "Let's now compare arrays."
   ]
  },
  {
   "cell_type": "code",
   "execution_count": 178,
   "metadata": {},
   "outputs": [],
   "source": [
    "# Create two arrays of random integers between 0 & 10 of the same shape\n",
    "# and save them to variables\n",
    "one_to_ten_five = np.random.randint(0,10, (2,2))\n",
    "one_to_ten_six = np.random.randint(0,10, (2,2))"
   ]
  },
  {
   "cell_type": "code",
   "execution_count": 179,
   "metadata": {},
   "outputs": [
    {
     "data": {
      "text/plain": [
       "array([[ True, False],\n",
       "       [False,  True]])"
      ]
     },
     "execution_count": 179,
     "metadata": {},
     "output_type": "execute_result"
    }
   ],
   "source": [
    "# Compare the two arrays with '>'\n",
    "one_to_ten_five > one_to_ten_six"
   ]
  },
  {
   "cell_type": "markdown",
   "metadata": {},
   "source": [
    "What happens when you compare the arrays with `>`?"
   ]
  },
  {
   "cell_type": "code",
   "execution_count": 180,
   "metadata": {},
   "outputs": [
    {
     "data": {
      "text/plain": [
       "array([[ True,  True],\n",
       "       [ True,  True]])"
      ]
     },
     "execution_count": 180,
     "metadata": {},
     "output_type": "execute_result"
    }
   ],
   "source": [
    "# Compare the two arrays with '>='\n",
    "one_to_ten_five >= one_to_ten_six"
   ]
  },
  {
   "cell_type": "code",
   "execution_count": 181,
   "metadata": {},
   "outputs": [
    {
     "data": {
      "text/plain": [
       "array([[False, False],\n",
       "       [False, False]])"
      ]
     },
     "execution_count": 181,
     "metadata": {},
     "output_type": "execute_result"
    }
   ],
   "source": [
    "# Find which elements of the first array are greater than 7\n",
    "one_to_ten_five > 7"
   ]
  },
  {
   "cell_type": "code",
   "execution_count": 182,
   "metadata": {},
   "outputs": [
    {
     "data": {
      "text/plain": [
       "array([[ True, False],\n",
       "       [False,  True]])"
      ]
     },
     "execution_count": 182,
     "metadata": {},
     "output_type": "execute_result"
    }
   ],
   "source": [
    "# Which parts of each array are equal? (try using '==')\n",
    "one_to_ten_five ==7"
   ]
  },
  {
   "cell_type": "code",
   "execution_count": 184,
   "metadata": {},
   "outputs": [
    {
     "data": {
      "text/plain": [
       "array([[2, 7],\n",
       "       [0, 7]])"
      ]
     },
     "execution_count": 184,
     "metadata": {},
     "output_type": "execute_result"
    }
   ],
   "source": [
    "# Sort one of the arrays you just created in ascending order\n",
    "one_to_ten_five.sort()\n",
    "one_to_ten_five"
   ]
  },
  {
   "cell_type": "code",
   "execution_count": 185,
   "metadata": {},
   "outputs": [
    {
     "data": {
      "text/plain": [
       "array([[0, 1],\n",
       "       [0, 1]])"
      ]
     },
     "execution_count": 185,
     "metadata": {},
     "output_type": "execute_result"
    }
   ],
   "source": [
    "# Sort the indexes of one of the arrays you just created\n",
    "one_to_ten_five.argsort()"
   ]
  },
  {
   "cell_type": "code",
   "execution_count": 186,
   "metadata": {},
   "outputs": [
    {
     "data": {
      "text/plain": [
       "np.int64(1)"
      ]
     },
     "execution_count": 186,
     "metadata": {},
     "output_type": "execute_result"
    }
   ],
   "source": [
    "# Find the index with the maximum value in one of the arrays you've created\n",
    "one_to_ten_five.argmax()"
   ]
  },
  {
   "cell_type": "code",
   "execution_count": 187,
   "metadata": {},
   "outputs": [
    {
     "data": {
      "text/plain": [
       "np.int64(2)"
      ]
     },
     "execution_count": 187,
     "metadata": {},
     "output_type": "execute_result"
    }
   ],
   "source": [
    "# Find the index with the minimum value in one of the arrays you've created\n",
    "one_to_ten_five.argmin()"
   ]
  },
  {
   "cell_type": "code",
   "execution_count": 188,
   "metadata": {},
   "outputs": [
    {
     "data": {
      "text/plain": [
       "array([0, 0])"
      ]
     },
     "execution_count": 188,
     "metadata": {},
     "output_type": "execute_result"
    }
   ],
   "source": [
    "# Find the indexes with the maximum values down the 1st axis (axis=1)\n",
    "# of one of the arrays you created\n",
    "one_to_ten_five.argmin(axis = 1)"
   ]
  },
  {
   "cell_type": "code",
   "execution_count": 189,
   "metadata": {},
   "outputs": [
    {
     "data": {
      "text/plain": [
       "array([1, 0])"
      ]
     },
     "execution_count": 189,
     "metadata": {},
     "output_type": "execute_result"
    }
   ],
   "source": [
    "# Find the indexes with the minimum values across the 0th axis (axis=0)\n",
    "# of one of the arrays you created\n",
    "one_to_ten_five.argmin(axis = 0)"
   ]
  },
  {
   "cell_type": "code",
   "execution_count": 196,
   "metadata": {},
   "outputs": [
    {
     "data": {
      "text/plain": [
       "array([[-0.11198782,  1.46894129, -1.12389833,  0.9500054 ,  1.72651647,\n",
       "         0.45788508, -1.68428738,  0.32684522, -0.08111895,  0.46779475],\n",
       "       [ 0.73612235, -0.77970188, -0.84389636, -0.15053386, -0.96555767,\n",
       "         0.15048908, -0.11342125,  2.63352822, -1.02509089, -0.78204783],\n",
       "       [ 0.42394307,  0.8727051 ,  2.28722598,  1.6229205 ,  0.82373308,\n",
       "         0.29305925,  0.89663038, -0.61032202, -0.3161659 , -1.48242425],\n",
       "       [-0.22884752,  0.96264129, -0.20969244, -0.77404293, -0.35977815,\n",
       "         0.72408325, -0.25576464,  0.8499212 , -1.31132423, -0.87030495],\n",
       "       [-0.50664322, -1.30995069,  2.94366342, -1.0962658 ,  0.91488432,\n",
       "        -0.66606062, -0.51378749,  0.3013228 , -1.45851692, -0.66273831],\n",
       "       [-0.14647281, -0.84601702, -0.82248937,  1.08672702,  1.00498688,\n",
       "        -0.44176602, -0.08416509,  1.23701607, -1.42647888,  0.33802266],\n",
       "       [ 1.9745712 ,  1.96503476, -1.93991122, -0.76262696,  0.16865939,\n",
       "        -1.32187695, -0.6682467 , -0.137291  ,  1.40132156, -0.04540266],\n",
       "       [ 0.21693673,  0.51242373,  0.54348869,  0.02809946, -1.19708706,\n",
       "         0.7896728 ,  0.43148946, -1.0967523 , -0.68230156,  0.88751161],\n",
       "       [ 0.60548313, -0.72029799, -0.26993377, -0.14346223,  0.61700378,\n",
       "         1.2489407 ,  0.06564916,  1.16920765,  0.87331697,  0.20565013],\n",
       "       [-1.44348335, -1.02771086,  0.74124064, -1.71052958,  0.11897849,\n",
       "         1.00048561,  0.15242086, -0.60139725, -0.84661436,  0.81615272]])"
      ]
     },
     "execution_count": 196,
     "metadata": {},
     "output_type": "execute_result"
    }
   ],
   "source": [
    "# Create an array of normally distributed random numbers\n",
    "np.random.randn(10,10)"
   ]
  },
  {
   "cell_type": "code",
   "execution_count": 197,
   "metadata": {},
   "outputs": [
    {
     "data": {
      "text/plain": [
       "array([  1.,  12.,  23.,  34.,  45.,  56.,  67.,  78.,  89., 100.])"
      ]
     },
     "execution_count": 197,
     "metadata": {},
     "output_type": "execute_result"
    }
   ],
   "source": [
    "# Create an array with 10 evenly spaced numbers between 1 and 100\n",
    "np.linspace(1,100,10)"
   ]
  },
  {
   "cell_type": "markdown",
   "metadata": {},
   "source": [
    "## Extensions\n",
    "\n",
    "For more exercises, check out the [NumPy quickstart tutorial](https://numpy.org/doc/stable/user/quickstart.html). A good practice would be to read through it and for the parts you find interesting, add them into the end of this notebook.\n",
    "\n",
    "Pay particular attention to the section on broadcasting. And most importantly, get hands-on with the code as much as possible. If in dobut, run the code, see what it does.\n",
    "\n",
    "The next place you could go is the [Stack Overflow page for the top questions and answers for NumPy](https://stackoverflow.com/questions/tagged/numpy?sort=MostVotes&edited=true). Often, you'll find some of the most common and useful NumPy functions here. Don't forget to play around with the filters! You'll likely find something helpful here.\n",
    "\n",
    "Finally, as always, remember, the best way to learn something new is to try it. And try it relentlessly. If you get interested in some kind of NumPy function, asking yourself, \"I wonder if NumPy could do that?\", go and find out."
   ]
  }
 ],
 "metadata": {
  "kernelspec": {
   "display_name": "Python 3 (ipykernel)",
   "language": "python",
   "name": "python3"
  },
  "language_info": {
   "codemirror_mode": {
    "name": "ipython",
    "version": 3
   },
   "file_extension": ".py",
   "mimetype": "text/x-python",
   "name": "python",
   "nbconvert_exporter": "python",
   "pygments_lexer": "ipython3",
   "version": "3.13.5"
  }
 },
 "nbformat": 4,
 "nbformat_minor": 4
}
